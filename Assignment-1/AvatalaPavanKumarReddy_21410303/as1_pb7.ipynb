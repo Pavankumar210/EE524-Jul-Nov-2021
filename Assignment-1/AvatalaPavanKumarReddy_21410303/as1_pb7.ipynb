{
 "cells": [
  {
   "cell_type": "markdown",
   "id": "82845ce8",
   "metadata": {},
   "source": [
    "# Ascending Order"
   ]
  },
  {
   "cell_type": "code",
   "execution_count": 2,
   "id": "bbb13e09",
   "metadata": {},
   "outputs": [
    {
     "name": "stdout",
     "output_type": "stream",
     "text": [
      "[ 1 19 25 28 29 36 39 51 59 73 75 76 79 81]\n"
     ]
    }
   ],
   "source": [
    "import numpy as np\n",
    "a=np.array([73, 51, 1, 39, 76, 81, 19, 36, 28, 29, 59, 79, 25, 75])\n",
    "for k in range(0, 13):\n",
    "    for j in range(0, 13):\n",
    "        if a[j]>a[j+1]:\n",
    "            a[j],a[j+1]=a[j+1],a[j]\n",
    "print(a)"
   ]
  }
 ],
 "metadata": {
  "kernelspec": {
   "display_name": "Python 3",
   "language": "python",
   "name": "python3"
  },
  "language_info": {
   "codemirror_mode": {
    "name": "ipython",
    "version": 3
   },
   "file_extension": ".py",
   "mimetype": "text/x-python",
   "name": "python",
   "nbconvert_exporter": "python",
   "pygments_lexer": "ipython3",
   "version": "3.8.8"
  }
 },
 "nbformat": 4,
 "nbformat_minor": 5
}
