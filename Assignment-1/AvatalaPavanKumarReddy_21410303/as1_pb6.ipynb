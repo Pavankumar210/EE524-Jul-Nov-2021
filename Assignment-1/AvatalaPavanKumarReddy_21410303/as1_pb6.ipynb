{
 "cells": [
  {
   "cell_type": "markdown",
   "id": "5a744613",
   "metadata": {},
   "source": [
    "# Descending Order Using Bubble Sort"
   ]
  },
  {
   "cell_type": "code",
   "execution_count": 15,
   "id": "68920e20",
   "metadata": {},
   "outputs": [
    {
     "name": "stdout",
     "output_type": "stream",
     "text": [
      "descending order\n",
      " [100  81  79  76  75  59  51  39  36  29  28  25  19  12   2]\n"
     ]
    }
   ],
   "source": [
    "l=np.array([100,51,12,39,76,81,19,36,28,29,59,79,25,75,2])\n",
    "for k in range(0,14):\n",
    "    for j in range(0,14):\n",
    "        if l[j]<l[j+1]:\n",
    "            l[j],l[j+1]=l[j+1],l[j]\n",
    "print('descending order\\n',l)"
   ]
  },
  {
   "cell_type": "code",
   "execution_count": null,
   "id": "c20c7aa7",
   "metadata": {},
   "outputs": [],
   "source": []
  }
 ],
 "metadata": {
  "kernelspec": {
   "display_name": "Python 3",
   "language": "python",
   "name": "python3"
  },
  "language_info": {
   "codemirror_mode": {
    "name": "ipython",
    "version": 3
   },
   "file_extension": ".py",
   "mimetype": "text/x-python",
   "name": "python",
   "nbconvert_exporter": "python",
   "pygments_lexer": "ipython3",
   "version": "3.8.8"
  }
 },
 "nbformat": 4,
 "nbformat_minor": 5
}
