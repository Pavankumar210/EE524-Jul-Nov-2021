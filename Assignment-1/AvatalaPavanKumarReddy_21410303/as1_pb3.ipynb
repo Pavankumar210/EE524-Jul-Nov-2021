{
 "cells": [
  {
   "cell_type": "markdown",
   "id": "a57471dc",
   "metadata": {},
   "source": [
    "# Factorial"
   ]
  },
  {
   "cell_type": "code",
   "execution_count": 3,
   "id": "a7c72788",
   "metadata": {},
   "outputs": [
    {
     "name": "stdout",
     "output_type": "stream",
     "text": [
      "Enter the number:5\n",
      "The factorial of given number is: 120\n"
     ]
    }
   ],
   "source": [
    "a=int(input('Enter the number:'))\n",
    "c=1\n",
    "for i in range(1,a+1):\n",
    "    c=c*i\n",
    "print('The factorial of given number is:',c)    \n",
    "    "
   ]
  },
  {
   "cell_type": "code",
   "execution_count": null,
   "id": "78a32e14",
   "metadata": {},
   "outputs": [],
   "source": []
  }
 ],
 "metadata": {
  "kernelspec": {
   "display_name": "Python 3",
   "language": "python",
   "name": "python3"
  },
  "language_info": {
   "codemirror_mode": {
    "name": "ipython",
    "version": 3
   },
   "file_extension": ".py",
   "mimetype": "text/x-python",
   "name": "python",
   "nbconvert_exporter": "python",
   "pygments_lexer": "ipython3",
   "version": "3.8.8"
  }
 },
 "nbformat": 4,
 "nbformat_minor": 5
}
