{
 "cells": [
  {
   "cell_type": "markdown",
   "id": "d49d77dd",
   "metadata": {},
   "source": [
    "# Arthimetic Operations\n"
   ]
  },
  {
   "cell_type": "code",
   "execution_count": 9,
   "id": "9407efc4",
   "metadata": {},
   "outputs": [
    {
     "name": "stdout",
     "output_type": "stream",
     "text": [
      "a:30\n",
      "b:25\n",
      "c: 55\n",
      "d: 5\n",
      "e: 750\n",
      "f: 1.2\n",
      "g: 5\n"
     ]
    }
   ],
   "source": [
    "a=int(input('a:'))\n",
    "b=int(input('b:'))\n",
    "c=a+b\n",
    "print('c:',c)\n",
    "d=a-b\n",
    "print('d:',d)\n",
    "e=a*b\n",
    "print('e:',e)\n",
    "f=a/b\n",
    "print('f:',f)\n",
    "g=a%b\n",
    "print('g:',g)"
   ]
  },
  {
   "cell_type": "code",
   "execution_count": null,
   "id": "281e7378",
   "metadata": {},
   "outputs": [],
   "source": []
  },
  {
   "cell_type": "code",
   "execution_count": null,
   "id": "a837ec30",
   "metadata": {},
   "outputs": [],
   "source": []
  }
 ],
 "metadata": {
  "kernelspec": {
   "display_name": "Python 3",
   "language": "python",
   "name": "python3"
  },
  "language_info": {
   "codemirror_mode": {
    "name": "ipython",
    "version": 3
   },
   "file_extension": ".py",
   "mimetype": "text/x-python",
   "name": "python",
   "nbconvert_exporter": "python",
   "pygments_lexer": "ipython3",
   "version": "3.8.8"
  }
 },
 "nbformat": 4,
 "nbformat_minor": 5
}
