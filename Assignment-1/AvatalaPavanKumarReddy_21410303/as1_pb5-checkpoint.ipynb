{
 "cells": [
  {
   "cell_type": "markdown",
   "id": "35351428",
   "metadata": {},
   "source": [
    "# LCM of two numbers"
   ]
  },
  {
   "cell_type": "code",
   "execution_count": 6,
   "id": "a7a570b2",
   "metadata": {},
   "outputs": [
    {
     "name": "stdout",
     "output_type": "stream",
     "text": [
      "a:15\n",
      "b:30\n",
      "lcm is: 30.0\n"
     ]
    }
   ],
   "source": [
    "a=int(input('a:'))\n",
    "b=int(input('b:'))\n",
    "gcd=0\n",
    "for i in range(1,min(a,b)+1):\n",
    "    if a%i==0 and b%i==0:\n",
    "        gcd=i\n",
    "lcm = a*b/gcd  \n",
    "print('lcm is:',lcm)"
   ]
  },
  {
   "cell_type": "code",
   "execution_count": null,
   "id": "60e3ab58",
   "metadata": {},
   "outputs": [],
   "source": []
  }
 ],
 "metadata": {
  "kernelspec": {
   "display_name": "Python 3",
   "language": "python",
   "name": "python3"
  },
  "language_info": {
   "codemirror_mode": {
    "name": "ipython",
    "version": 3
   },
   "file_extension": ".py",
   "mimetype": "text/x-python",
   "name": "python",
   "nbconvert_exporter": "python",
   "pygments_lexer": "ipython3",
   "version": "3.8.8"
  }
 },
 "nbformat": 4,
 "nbformat_minor": 5
}
