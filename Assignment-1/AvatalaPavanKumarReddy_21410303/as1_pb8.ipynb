{
 "cells": [
  {
   "cell_type": "markdown",
   "id": "6e7638e8",
   "metadata": {},
   "source": [
    "# Random Matrix"
   ]
  },
  {
   "cell_type": "code",
   "execution_count": null,
   "id": "62774b15",
   "metadata": {},
   "outputs": [],
   "source": [
    "import numpy as np\n",
    "m=int(input('m:'))\n",
    "n=int(input('n:'))\n",
    "random_matrix=np.random.randint(low=-2,high=6,size=(m,n))\n",
    "print(random_matrix)"
   ]
  },
  {
   "cell_type": "code",
   "execution_count": null,
   "id": "e1ee51ed",
   "metadata": {},
   "outputs": [],
   "source": []
  }
 ],
 "metadata": {
  "kernelspec": {
   "display_name": "Python 3",
   "language": "python",
   "name": "python3"
  },
  "language_info": {
   "codemirror_mode": {
    "name": "ipython",
    "version": 3
   },
   "file_extension": ".py",
   "mimetype": "text/x-python",
   "name": "python",
   "nbconvert_exporter": "python",
   "pygments_lexer": "ipython3",
   "version": "3.8.8"
  }
 },
 "nbformat": 4,
 "nbformat_minor": 5
}
