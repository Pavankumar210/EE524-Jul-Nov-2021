{
 "cells": [
  {
   "cell_type": "markdown",
   "id": "9222a955",
   "metadata": {},
   "source": [
    "# Prime numbers"
   ]
  },
  {
   "cell_type": "code",
   "execution_count": null,
   "id": "b41ceba3",
   "metadata": {
    "scrolled": true
   },
   "outputs": [],
   "source": [
    "a=int(input('Enter the 1st number:'))\n",
    "b=int(input('Enter the 2nd number:'))\n",
    "print('The prime numbers are:')\n",
    "for i in range(a,b+1):\n",
    "    for j in range(2,i):\n",
    "        if i%j==0:\n",
    "            break\n",
    "    else:\n",
    "         print(i)\n",
    "                \n",
    "        "
   ]
  },
  {
   "cell_type": "code",
   "execution_count": null,
   "id": "2ceccb31",
   "metadata": {},
   "outputs": [],
   "source": []
  },
  {
   "cell_type": "code",
   "execution_count": null,
   "id": "d78108ce",
   "metadata": {},
   "outputs": [],
   "source": []
  }
 ],
 "metadata": {
  "kernelspec": {
   "display_name": "Python 3",
   "language": "python",
   "name": "python3"
  },
  "language_info": {
   "codemirror_mode": {
    "name": "ipython",
    "version": 3
   },
   "file_extension": ".py",
   "mimetype": "text/x-python",
   "name": "python",
   "nbconvert_exporter": "python",
   "pygments_lexer": "ipython3",
   "version": "3.8.8"
  }
 },
 "nbformat": 4,
 "nbformat_minor": 5
}
