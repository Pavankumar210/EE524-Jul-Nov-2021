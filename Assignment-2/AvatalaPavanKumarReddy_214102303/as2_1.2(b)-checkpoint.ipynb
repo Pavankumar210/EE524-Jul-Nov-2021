{
 "cells": [
  {
   "cell_type": "code",
   "execution_count": 5,
   "id": "12eb1580",
   "metadata": {},
   "outputs": [
    {
     "data": {
      "image/png": "[encoded data removed]",
      "text/plain": [
       "<Figure size 432x288 with 1 Axes>"
      ]
     },
     "metadata": {
      "needs_background": "light"
     },
     "output_type": "display_data"
    }
   ],
   "source": [
    "#The problem given here represents Binomial Distribution\n",
    "import matplotlib.pyplot as plt\n",
    "import math\n",
    "x=[item for item in range(21)] #x represents no.of successful 1's recieved\n",
    "y=[]\n",
    "for i in range(len(x)):\n",
    "    #n=20 represents total no.of bits recieved\n",
    "    #i in X represents no of successful 1's recieved\n",
    "    #probality of 0's given is 0.4 \n",
    "    #i.e probabilty of failure is 0.4\n",
    "    p=math.comb(20,i)*pow(0.6,i)*pow(0.4,20-i) #pmf for binomial distribution\n",
    "    y.append(p)\n",
    "plt.bar(x,y)\n",
    "plt.title('Binomial Distribution')\n",
    "plt.xlabel('X')\n",
    "plt.ylabel('P(x)')\n",
    "plt.show()\n",
    "    \n",
    "    "
   ]
  },
  {
   "cell_type": "code",
   "execution_count": 6,
   "id": "e13d74f3",
   "metadata": {},
   "outputs": [
    {
     "name": "stdout",
     "output_type": "stream",
     "text": [
      "The mean is: 12.0\n",
      "The variance is: 4.800000000000001\n"
     ]
    }
   ],
   "source": [
    "#Mean and Variance\n",
    "q=0.4 #probability of 0's,given in question\n",
    "p=1-q\n",
    "n=20 # no.of bits recieved\n",
    "mean=n*p\n",
    "variance=n*p*(1-p)\n",
    "print('The mean is:',mean)\n",
    "print('The variance is:',variance)"
   ]
  }
 ],
 "metadata": {
  "kernelspec": {
   "display_name": "Python 3",
   "language": "python",
   "name": "python3"
  },
  "language_info": {
   "codemirror_mode": {
    "name": "ipython",
    "version": 3
   },
   "file_extension": ".py",
   "mimetype": "text/x-python",
   "name": "python",
   "nbconvert_exporter": "python",
   "pygments_lexer": "ipython3",
   "version": "3.8.8"
  }
 },
 "nbformat": 4,
 "nbformat_minor": 5
}
