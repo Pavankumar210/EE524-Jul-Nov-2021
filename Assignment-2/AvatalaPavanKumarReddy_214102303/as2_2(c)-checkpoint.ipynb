{
 "cells": [
  {
   "cell_type": "markdown",
   "id": "2b10d114",
   "metadata": {},
   "source": [
    "The gradient and stationary points of 1st matrix are: x1,x2 and (0,0) \n",
    "The gradient and stationary points of 2nd matrix are: 2x1,2x2 and (0,0)\n",
    "The gradient and stationary points of 3rd matrix are: 8x1,8x2 and (0,0)\n",
    "The gradient and stationary points of 4th matrix are: 18x1,2x2 and (0,0)\n",
    "The gradient and stationary points of 5th matrix are: 2x1,18x2 and (0,0)\n",
    "The gradient and stationary points of 6th matrix are: 18x1+10x2,10x1+16x2 and 4x1=3x2\n",
    "The gradient and stationary points of 7th matrix are: 2x1-2x2,-2x1+2x2 and x1=x2\n",
    "The gradient and stationary points of 8th matrix are: 2x1-x2,2x2-x1 and x1=x2\n",
    "The gradient and stationary points of 9th matrix are: 2x1+2x2,2x1+2x2 and undefined\n",
    "The gradient and stationary points of 10th matrix are: 2x1+x2,2x2+x1 and x1=x2"
   ]
  }
 ],
 "metadata": {
  "kernelspec": {
   "display_name": "Python 3",
   "language": "python",
   "name": "python3"
  },
  "language_info": {
   "codemirror_mode": {
    "name": "ipython",
    "version": 3
   },
   "file_extension": ".py",
   "mimetype": "text/x-python",
   "name": "python",
   "nbconvert_exporter": "python",
   "pygments_lexer": "ipython3",
   "version": "3.8.8"
  }
 },
 "nbformat": 4,
 "nbformat_minor": 5
}
