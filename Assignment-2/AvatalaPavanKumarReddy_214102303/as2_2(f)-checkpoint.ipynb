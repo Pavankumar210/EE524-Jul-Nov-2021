{
 "cells": [
  {
   "cell_type": "code",
   "execution_count": 5,
   "id": "8a8ab0e2",
   "metadata": {},
   "outputs": [
    {
     "ename": "SyntaxError",
     "evalue": "invalid syntax (<ipython-input-5-db8964bfd7e5>, line 11)",
     "output_type": "error",
     "traceback": [
      "\u001b[1;36m  File \u001b[1;32m\"<ipython-input-5-db8964bfd7e5>\"\u001b[1;36m, line \u001b[1;32m11\u001b[0m\n\u001b[1;33m    r=array[:,3]#petal width\u001b[0m\n\u001b[1;37m    ^\u001b[0m\n\u001b[1;31mSyntaxError\u001b[0m\u001b[1;31m:\u001b[0m invalid syntax\n"
     ]
    }
   ],
   "source": [
    "# import libraries\n",
    "import pandas as pd\n",
    "import numpy as np\n",
    "dataset=pd.read_csv(\"Iris.csv\")\n",
    "dataset.head()\n",
    "with open(\"Iris.csv\") as file_name:\n",
    "    array = np.loadtxt(file_name, delimiter=\",\",skiprows=1,usecols=(0,1,2,3))\n",
    "x=array[:,0]#sepal length\n",
    "y=array[:,1]#sepal width\n",
    "z=array[:,2#petal length\n",
    "r=array[:,3] #ptal width\n",
    "cov_mat=np.stack((x,y,z,r),axis=0)\n",
    "cov=np.cov(cov_mat)\n",
    "print('covariance is:',cov)\n",
    "eigvalues,eigvectors=np.linalg(cov)\n",
    "print('Eigen values are:',eigenvalues)\n",
    "print('Eigen vectors are:',eigenvectors)\n",
    "s=np.sort(eigvalues)\n",
    "descval=np.flip(s)#the values will be arranged in descending order\n",
    "print('Descending order of eigen values is:',descval)\n",
    "k=np.sort(eigvectors)\n",
    "descvec=np.flip(k)# The vectors will be arranged in descending order\n",
    "print('Descending order of eigen vectors is:',descvec)"
   ]
  },
  {
   "cell_type": "code",
   "execution_count": null,
   "id": "dc81850a",
   "metadata": {},
   "outputs": [],
   "source": []
  }
 ],
 "metadata": {
  "kernelspec": {
   "display_name": "Python 3",
   "language": "python",
   "name": "python3"
  },
  "language_info": {
   "codemirror_mode": {
    "name": "ipython",
    "version": 3
   },
   "file_extension": ".py",
   "mimetype": "text/x-python",
   "name": "python",
   "nbconvert_exporter": "python",
   "pygments_lexer": "ipython3",
   "version": "3.8.8"
  }
 },
 "nbformat": 4,
 "nbformat_minor": 5
}
