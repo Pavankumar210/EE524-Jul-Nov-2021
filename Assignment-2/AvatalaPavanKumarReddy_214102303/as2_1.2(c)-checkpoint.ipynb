{
 "cells": [
  {
   "cell_type": "code",
   "execution_count": 4,
   "id": "cae6874a",
   "metadata": {},
   "outputs": [
    {
     "data": {
      "image/png": "[encoded data removed]",
      "text/plain": [
       "<Figure size 432x288 with 1 Axes>"
      ]
     },
     "metadata": {
      "needs_background": "light"
     },
     "output_type": "display_data"
    }
   ],
   "source": [
    "# The problem here represents Geometric Distribution\n",
    "import matplotlib.pyplot as plt\n",
    "p=0.5 #only two bits are present\n",
    "x=[item for item in range(1,11)]# item in X represents the time when bit 1 is recieved\n",
    "y=[]\n",
    "for i in x:\n",
    "    f=p*pow(1-p,i-1)\n",
    "    y.append(f)\n",
    "plt.bar(x,y)\n",
    "plt.show()"
   ]
  },
  {
   "cell_type": "code",
   "execution_count": 6,
   "id": "60af96e6",
   "metadata": {},
   "outputs": [
    {
     "name": "stdout",
     "output_type": "stream",
     "text": [
      "The mean is: 2.0\n",
      "The variance is: 2.0\n"
     ]
    }
   ],
   "source": [
    "# mean and Variance\n",
    "mean=1/p\n",
    "variance=(1-p)/p**2\n",
    "print('The mean is:',mean)\n",
    "print('The variance is:',variance)"
   ]
  }
 ],
 "metadata": {
  "kernelspec": {
   "display_name": "Python 3",
   "language": "python",
   "name": "python3"
  },
  "language_info": {
   "codemirror_mode": {
    "name": "ipython",
    "version": 3
   },
   "file_extension": ".py",
   "mimetype": "text/x-python",
   "name": "python",
   "nbconvert_exporter": "python",
   "pygments_lexer": "ipython3",
   "version": "3.8.8"
  }
 },
 "nbformat": 4,
 "nbformat_minor": 5
}
