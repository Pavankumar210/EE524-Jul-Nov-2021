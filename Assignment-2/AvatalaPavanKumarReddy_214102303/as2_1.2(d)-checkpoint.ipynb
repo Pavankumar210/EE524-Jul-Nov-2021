{
 "cells": [
  {
   "cell_type": "code",
   "execution_count": 18,
   "id": "c9981ab0",
   "metadata": {},
   "outputs": [
    {
     "data": {
      "image/png": "[encoded data removed]",
      "text/plain": [
       "<Figure size 432x288 with 1 Axes>"
      ]
     },
     "metadata": {
      "needs_background": "light"
     },
     "output_type": "display_data"
    }
   ],
   "source": [
    "# The Problem here represents Poisson Distribution\n",
    "import matplotlib.pyplot as plt\n",
    "import numpy as np\n",
    "import math\n",
    "# given mean is 5\n",
    "a=5\n",
    "x=[item for item in range(21)]\n",
    "y=[]\n",
    "for i in x:\n",
    "    f=pow(a,i)*np.exp(-a)/math.factorial(i) #Pmf for poisson distribution\n",
    "    y.append(f)\n",
    "plt.bar(x,y)\n",
    "plt.xlabel('x')\n",
    "plt.ylabel('p(x=k)')\n",
    "plt.show()"
   ]
  },
  {
   "cell_type": "code",
   "execution_count": 21,
   "id": "833eb167",
   "metadata": {},
   "outputs": [
    {
     "name": "stdout",
     "output_type": "stream",
     "text": [
      "Mean is : 5\n",
      "variance is : 5\n"
     ]
    }
   ],
   "source": [
    "# mean and variance\n",
    "mean=variance=a\n",
    "print('Mean is :',mean)\n",
    "print('variance is :',variance)"
   ]
  }
 ],
 "metadata": {
  "kernelspec": {
   "display_name": "Python 3",
   "language": "python",
   "name": "python3"
  },
  "language_info": {
   "codemirror_mode": {
    "name": "ipython",
    "version": 3
   },
   "file_extension": ".py",
   "mimetype": "text/x-python",
   "name": "python",
   "nbconvert_exporter": "python",
   "pygments_lexer": "ipython3",
   "version": "3.8.8"
  }
 },
 "nbformat": 4,
 "nbformat_minor": 5
}
