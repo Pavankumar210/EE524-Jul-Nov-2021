{
 "cells": [
  {
   "cell_type": "markdown",
   "id": "97676773",
   "metadata": {},
   "source": [
    "# Discrete Distribution \n",
    "## Problem (a)"
   ]
  },
  {
   "cell_type": "code",
   "execution_count": 52,
   "id": "06b6bcc7",
   "metadata": {
    "scrolled": true
   },
   "outputs": [
    {
     "data": {
      "image/png": "[encoded data removed]",
      "text/plain": [
       "<Figure size 432x288 with 3 Axes>"
      ]
     },
     "metadata": {
      "needs_background": "light"
     },
     "output_type": "display_data"
    }
   ],
   "source": [
    "##### The problem given here represent Bernoulis Distribution\n",
    "import numpy as np\n",
    "import matplotlib.pyplot as plt\n",
    "\n",
    "n=[i for i in range(5)]\n",
    "\n",
    "#Pmf of bernoulis distribution\n",
    "def pmf(p):#p is the probability of failure\n",
    "    f=[]\n",
    "    for i in n:\n",
    "        if n[i]==0 or n[i]==1:\n",
    "            f.append(pow(1-p,n[i])*pow(p,1-n[i]))\n",
    "        else:\n",
    "            f.append(0)\n",
    "    return f \n",
    "# probability of failure p=0.1\n",
    "y1= pmf(0.6)\n",
    "#probability of failure p=0.5\n",
    "y2=pmf(0.5)\n",
    "#probability of failure p=0.8\n",
    "y3=pmf(0.8)\n",
    "\n",
    "#plot1\n",
    "plt.subplot(1,3,1)\n",
    "plt.ylim(0,1)\n",
    "plt.bar(n,y1)\n",
    "plt.title('p=0.6')\n",
    "plt.xlabel('n')\n",
    "plt.ylabel('P(n)')\n",
    "\n",
    "#plot2\n",
    "plt.subplot(1,3,2)          # Here p is probability of failure\n",
    "plt.bar(n,y2)\n",
    "plt.ylim(0,1)\n",
    "plt.title('p=0.5')\n",
    "plt.xlabel('n')\n",
    "plt.ylabel('P(n)')\n",
    "\n",
    "#plot3\n",
    "plt.subplot(1,3,3)\n",
    "plt.bar(n,y3)\n",
    "plt.ylim(0,1)\n",
    "plt.title('p=0.8')\n",
    "plt.xlabel('n')\n",
    "plt.ylabel('P(n)')\n",
    "\n",
    "plt.show()"
   ]
  },
  {
   "cell_type": "code",
   "execution_count": 51,
   "id": "76c70466",
   "metadata": {},
   "outputs": [
    {
     "name": "stdout",
     "output_type": "stream",
     "text": [
      "Mean for p=0.6 is : 0.4\n",
      "variance for p=0.6 is : 0.24\n",
      "Mean for p=0.5 is : 0.5\n",
      "variance for p=0.5 is : 0.25\n",
      "Mean for p=0.8 is : 0.19999999999999996\n",
      "variance for p=0.8 is : 0.15999999999999998\n"
     ]
    }
   ],
   "source": [
    "#Mean and Variance\n",
    "def mean(p):#p is probability of failures\n",
    "    return float(1-p)\n",
    "def variance(p):\n",
    "    return float(p*(1-p))\n",
    "#p=0.6\n",
    "print('Mean for p=0.6 is :',mean(0.6))\n",
    "print('variance for p=0.6 is :',variance(0.6))\n",
    "#p=0.5\n",
    "print('Mean for p=0.5 is :',mean(0.5))\n",
    "print('variance for p=0.5 is :',variance(0.5))\n",
    "#p=0.8\n",
    "print('Mean for p=0.8 is :',mean(0.8))\n",
    "print('variance for p=0.8 is :',variance(0.8))"
   ]
  },
  {
   "cell_type": "code",
   "execution_count": null,
   "id": "5674e27e",
   "metadata": {},
   "outputs": [],
   "source": []
  },
  {
   "cell_type": "code",
   "execution_count": null,
   "id": "b52e69b8",
   "metadata": {},
   "outputs": [],
   "source": []
  }
 ],
 "metadata": {
  "kernelspec": {
   "display_name": "Python 3",
   "language": "python",
   "name": "python3"
  },
  "language_info": {
   "codemirror_mode": {
    "name": "ipython",
    "version": 3
   },
   "file_extension": ".py",
   "mimetype": "text/x-python",
   "name": "python",
   "nbconvert_exporter": "python",
   "pygments_lexer": "ipython3",
   "version": "3.8.8"
  }
 },
 "nbformat": 4,
 "nbformat_minor": 5
}
